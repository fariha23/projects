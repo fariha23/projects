{
 "cells": [
  {
   "cell_type": "markdown",
   "metadata": {},
   "source": [
    "# Time Series Point Extraction"
   ]
  },
  {
   "cell_type": "markdown",
   "metadata": {},
   "source": [
    "Herein is an example of python code that extracts key points from a timeseries of the load applied to a medical device for testing purposes.  The code here shows exploration of a sample dataset and builds the functions for an automated approach.  A finalized/polished version of the functions created is utlized in industry to acquire information about the device performance."
   ]
  },
  {
   "cell_type": "code",
   "execution_count": 310,
   "metadata": {},
   "outputs": [],
   "source": [
    "import pandas as pd\n",
    "import numpy as np\n",
    "import glob\n",
    "\n",
    "import matplotlib.pyplot as plt\n",
    "from scipy.signal import argrelextrema\n"
   ]
  },
  {
   "cell_type": "code",
   "execution_count": 378,
   "metadata": {},
   "outputs": [
    {
     "name": "stdout",
     "output_type": "stream",
     "text": [
      "/Users/Hailey/Documents/GitHub/projects/TimeSeriesPointExtraction\\AI-TS.csv\n"
     ]
    }
   ],
   "source": [
    "path = \"/Users/Hailey/Documents/GitHub/projects/TimeSeriesPointExtraction/*.csv\" \n",
    "for fname in glob.glob(path):\n",
    "    print(fname)\n",
    "    df = pd.read_csv(fname)"
   ]
  },
  {
   "cell_type": "code",
   "execution_count": 379,
   "metadata": {},
   "outputs": [
    {
     "data": {
      "text/html": [
       "<div>\n",
       "<style scoped>\n",
       "    .dataframe tbody tr th:only-of-type {\n",
       "        vertical-align: middle;\n",
       "    }\n",
       "\n",
       "    .dataframe tbody tr th {\n",
       "        vertical-align: top;\n",
       "    }\n",
       "\n",
       "    .dataframe thead th {\n",
       "        text-align: right;\n",
       "    }\n",
       "</style>\n",
       "<table border=\"1\" class=\"dataframe\">\n",
       "  <thead>\n",
       "    <tr style=\"text-align: right;\">\n",
       "      <th></th>\n",
       "      <th>load</th>\n",
       "    </tr>\n",
       "    <tr>\n",
       "      <th>time</th>\n",
       "      <th></th>\n",
       "    </tr>\n",
       "  </thead>\n",
       "  <tbody>\n",
       "    <tr>\n",
       "      <th>0.00</th>\n",
       "      <td>3.0</td>\n",
       "    </tr>\n",
       "    <tr>\n",
       "      <th>0.05</th>\n",
       "      <td>3.0</td>\n",
       "    </tr>\n",
       "    <tr>\n",
       "      <th>0.10</th>\n",
       "      <td>3.0</td>\n",
       "    </tr>\n",
       "    <tr>\n",
       "      <th>0.15</th>\n",
       "      <td>3.0</td>\n",
       "    </tr>\n",
       "    <tr>\n",
       "      <th>0.20</th>\n",
       "      <td>3.0</td>\n",
       "    </tr>\n",
       "  </tbody>\n",
       "</table>\n",
       "</div>"
      ],
      "text/plain": [
       "      load\n",
       "time      \n",
       "0.00   3.0\n",
       "0.05   3.0\n",
       "0.10   3.0\n",
       "0.15   3.0\n",
       "0.20   3.0"
      ]
     },
     "execution_count": 379,
     "metadata": {},
     "output_type": "execute_result"
    }
   ],
   "source": [
    "df.set_index('time', inplace = True)\n",
    "data = df\n",
    "#df.load = df.sub(df.load[0], axis = 'columns') #normalize initial load to 0.\n",
    "df.head()"
   ]
  },
  {
   "cell_type": "markdown",
   "metadata": {},
   "source": [
    "Below is a plot of the timeseries and the datapoints of interest for the plot.  The goal here is to repeatable identify these points in new data where there may be slight variations in the load or the time at which the load occurs. "
   ]
  },
  {
   "cell_type": "code",
   "execution_count": 380,
   "metadata": {
    "scrolled": true
   },
   "outputs": [
    {
     "data": {
      "text/plain": [
       "Text(0, 0.5, 'Load (lbf)')"
      ]
     },
     "execution_count": 380,
     "metadata": {},
     "output_type": "execute_result"
    },
    {
     "data": {
      "image/png": "[encoded data removed]",
      "text/plain": [
       "<Figure size 432x288 with 1 Axes>"
      ]
     },
     "metadata": {
      "needs_background": "light"
     },
     "output_type": "display_data"
    }
   ],
   "source": [
    "plt.plot(df.index, df.load)\n",
    "y = [2.4, 17, 14, 4]\n",
    "x = [0.55, 1.05, 1.2, 1.45]\n",
    "plt.scatter(x,y,s=10,c='r', marker = 'o')\n",
    "plt.title('Medical Device Load Testing')\n",
    "plt.xlabel('Time (s)')\n",
    "plt.ylabel('Load (lbf)')"
   ]
  },
  {
   "cell_type": "markdown",
   "metadata": {},
   "source": [
    "Clearly, the peak value and the point of interest before the peak in the time series can be identified by finding the max and min values, respectively, of the time series. However, the point where the second derivitive is changing will indicate the final two points of interest."
   ]
  },
  {
   "cell_type": "markdown",
   "metadata": {},
   "source": [
    "The first derivative is calculated and plotted below.  This shows us the slope througout the plot.  In this plot we can also see when the slope is increasing or decreasing."
   ]
  },
  {
   "cell_type": "code",
   "execution_count": 381,
   "metadata": {},
   "outputs": [
    {
     "data": {
      "image/png": "[encoded data removed]",
      "text/plain": [
       "<Figure size 432x288 with 1 Axes>"
      ]
     },
     "metadata": {
      "needs_background": "light"
     },
     "output_type": "display_data"
    }
   ],
   "source": [
    "ddf = np.gradient(df.load)\n",
    "plt.plot(ddf)\n",
    "plt.title('Derivative of load')\n",
    "plt.ylabel('Change in load')\n",
    "\n",
    "df['deriv'] = ddf"
   ]
  },
  {
   "cell_type": "markdown",
   "metadata": {},
   "source": [
    "Notice below when a plateau occurs, the values in the time series are changing at a constant rate.  This can be seen with the red points that occur leading up to the apex of the data and end prior to the apex (indicated by a red line) where we can visually see that the slope suddenly changes.  This can also be confimed by looking at the original data at the time frame between 0.90 and 1.05, which shows us that the load is changing by increments of 2 and then by an increment of 1."
   ]
  },
  {
   "cell_type": "code",
   "execution_count": 382,
   "metadata": {},
   "outputs": [
    {
     "data": {
      "text/html": [
       "<div>\n",
       "<style scoped>\n",
       "    .dataframe tbody tr th:only-of-type {\n",
       "        vertical-align: middle;\n",
       "    }\n",
       "\n",
       "    .dataframe tbody tr th {\n",
       "        vertical-align: top;\n",
       "    }\n",
       "\n",
       "    .dataframe thead th {\n",
       "        text-align: right;\n",
       "    }\n",
       "</style>\n",
       "<table border=\"1\" class=\"dataframe\">\n",
       "  <thead>\n",
       "    <tr style=\"text-align: right;\">\n",
       "      <th></th>\n",
       "      <th>load</th>\n",
       "      <th>deriv</th>\n",
       "    </tr>\n",
       "    <tr>\n",
       "      <th>time</th>\n",
       "      <th></th>\n",
       "      <th></th>\n",
       "    </tr>\n",
       "  </thead>\n",
       "  <tbody>\n",
       "    <tr>\n",
       "      <th>0.90</th>\n",
       "      <td>12.0</td>\n",
       "      <td>2.0</td>\n",
       "    </tr>\n",
       "    <tr>\n",
       "      <th>0.95</th>\n",
       "      <td>14.0</td>\n",
       "      <td>2.0</td>\n",
       "    </tr>\n",
       "    <tr>\n",
       "      <th>1.00</th>\n",
       "      <td>16.0</td>\n",
       "      <td>1.5</td>\n",
       "    </tr>\n",
       "    <tr>\n",
       "      <th>1.05</th>\n",
       "      <td>17.0</td>\n",
       "      <td>0.0</td>\n",
       "    </tr>\n",
       "  </tbody>\n",
       "</table>\n",
       "</div>"
      ],
      "text/plain": [
       "      load  deriv\n",
       "time             \n",
       "0.90  12.0    2.0\n",
       "0.95  14.0    2.0\n",
       "1.00  16.0    1.5\n",
       "1.05  17.0    0.0"
      ]
     },
     "execution_count": 382,
     "metadata": {},
     "output_type": "execute_result"
    }
   ],
   "source": [
    "df[0.90:1.05]"
   ]
  },
  {
   "cell_type": "code",
   "execution_count": 383,
   "metadata": {},
   "outputs": [
    {
     "data": {
      "text/plain": [
       "Text(0.5, 0, 'Time (s)')"
      ]
     },
     "execution_count": 383,
     "metadata": {},
     "output_type": "execute_result"
    },
    {
     "data": {
      "image/png": "[encoded data removed]",
      "text/plain": [
       "<Figure size 432x288 with 1 Axes>"
      ]
     },
     "metadata": {
      "needs_background": "light"
     },
     "output_type": "display_data"
    }
   ],
   "source": [
    "mx = max(df.deriv)\n",
    "val_max = df[df['deriv']==mx].index.values\n",
    "#print(mx, val_max)\n",
    "\n",
    "plt.plot(df.index, df.load)\n",
    "plt.plot(df.index, df.deriv)\n",
    "for val in val_max:\n",
    "    plt.scatter(val, 2.0, c='r')\n",
    "    \n",
    "plt.axvline(x=1.0, c='r')\n",
    "\n",
    "plt.title('First Derivative of load')\n",
    "plt.ylabel('Load (lbf)')\n",
    "plt.xlabel('Time (s)')"
   ]
  },
  {
   "cell_type": "markdown",
   "metadata": {},
   "source": [
    "Since the slope is decreasing at the third point of interest, finding the minima of the derivative will help us locate this point.  "
   ]
  },
  {
   "cell_type": "markdown",
   "metadata": {},
   "source": [
    "To repeatably find the final point of interest, the second derivitive will be useful.  Below is a plot of the second derivative overlaid with vertical lines representing the locations of our points of interest.  Both the third and fourth points of interest occur at local minima/maxima of the second derivative of the load.  "
   ]
  },
  {
   "cell_type": "code",
   "execution_count": 384,
   "metadata": {},
   "outputs": [
    {
     "data": {
      "image/png": "[encoded data removed]",
      "text/plain": [
       "<Figure size 432x288 with 1 Axes>"
      ]
     },
     "metadata": {
      "needs_background": "light"
     },
     "output_type": "display_data"
    }
   ],
   "source": [
    "dddf = np.gradient(df.deriv)\n",
    "#plt.plot(dddf)\n",
    "plt.plot(df.index, dddf)\n",
    "plt.title('Second Derivative of load')\n",
    "plt.ylabel('Change in load')\n",
    "\n",
    "df['secderiv'] = dddf\n",
    "\n",
    "for val in x:\n",
    "    plt.axvline(x=val, c='r')"
   ]
  },
  {
   "cell_type": "code",
   "execution_count": 385,
   "metadata": {},
   "outputs": [
    {
     "name": "stdout",
     "output_type": "stream",
     "text": [
      "1.0\n"
     ]
    },
    {
     "data": {
      "text/plain": [
       "Text(0, 0.5, 'Load (lbf)')"
      ]
     },
     "execution_count": 385,
     "metadata": {},
     "output_type": "execute_result"
    },
    {
     "data": {
      "image/png": "[encoded data removed]",
      "text/plain": [
       "<Figure size 432x288 with 1 Axes>"
      ]
     },
     "metadata": {
      "needs_background": "light"
     },
     "output_type": "display_data"
    }
   ],
   "source": [
    "mx2 = max(df.secderiv)\n",
    "print(mx2)\n",
    "sec_val_max = df[df['secderiv']==mx2].index.values\n",
    "\n",
    "plt.plot(df.index, df.load)\n",
    "plt.plot(df.index, df.secderiv)\n",
    "for val in sec_val_max:\n",
    "    plt.scatter(val, 1, c='r')\n",
    "\n",
    "plt.title('Load and Second Derivative')\n",
    "plt.xlabel('Time (s)')\n",
    "plt.ylabel('Load (lbf)')"
   ]
  },
  {
   "cell_type": "code",
   "execution_count": 386,
   "metadata": {},
   "outputs": [
    {
     "data": {
      "text/plain": [
       "<matplotlib.legend.Legend at 0xaa33a9e988>"
      ]
     },
     "execution_count": 386,
     "metadata": {},
     "output_type": "execute_result"
    },
    {
     "data": {
      "image/png": "[encoded data removed]",
      "text/plain": [
       "<Figure size 432x288 with 1 Axes>"
      ]
     },
     "metadata": {
      "needs_background": "light"
     },
     "output_type": "display_data"
    }
   ],
   "source": [
    "plt.plot(df.index, df.load)\n",
    "plt.plot(df.index, df.deriv)\n",
    "plt.plot(df.index, df.secderiv)\n",
    "for val in x:\n",
    "    plt.axvline(x=val, c='r')\n",
    "    \n",
    "plt.title('Load and Derivatives')\n",
    "plt.xlabel('Time (s)')\n",
    "plt.ylabel('Load (lbf)')\n",
    "plt.legend(['load', '1st deriv', '2nd deriv'])"
   ]
  },
  {
   "cell_type": "markdown",
   "metadata": {},
   "source": [
    "Methods for identifying each point of interest have been identified.  A function can now be created to identify each point repeatably.  "
   ]
  },
  {
   "cell_type": "code",
   "execution_count": 445,
   "metadata": {},
   "outputs": [],
   "source": [
    "# get derivatives of original data\n",
    "def get_derivs(data):\n",
    "    ddf = np.gradient(data.load)\n",
    "    data['deriv'] = ddf\n",
    "    dddf = np.gradient(data.deriv)\n",
    "    data['secderiv'] = dddf\n",
    "    return data\n",
    "    \n",
    "\n",
    "# get key points from df, containing deriv columns.\n",
    "def key_points(df, sampling_time):\n",
    "    #create lists to store info.\n",
    "    time = []\n",
    "    load = []\n",
    "    \n",
    "    #id point 1\n",
    "    time.append(df[df['load']==min(df.load)].index.values)\n",
    "    load.append(min(df.load))\n",
    "    #id point 2\n",
    "    time.append(df[df['load']==max(df.load)].index.values)\n",
    "    load.append(max(df.load))\n",
    "    # id point 3\n",
    "    time.append(df[df['deriv']==min(df.deriv)].index.values[0] - sampling_time)\n",
    "    load.append(df.load[df[df['deriv']==min(df.deriv)].index.values[0] - smp_time])\n",
    "    #id point 4\n",
    "    time.append(df[df['secderiv']==max(df.secderiv)].index.values)  #df[df.secderiv == max(df.secderiv)].index.values\n",
    "    load.append(df.load[df.secderiv == max(df.secderiv)].values)\n",
    "    # return all the points\n",
    "    points = pd.DataFrame(columns = ['time', 'load'])\n",
    "    points['time'] = time\n",
    "    points['load'] = load\n",
    "    return points.astype(float)\n",
    "    print(points.astype(float))"
   ]
  },
  {
   "cell_type": "code",
   "execution_count": 446,
   "metadata": {},
   "outputs": [
    {
     "data": {
      "text/html": [
       "<div>\n",
       "<style scoped>\n",
       "    .dataframe tbody tr th:only-of-type {\n",
       "        vertical-align: middle;\n",
       "    }\n",
       "\n",
       "    .dataframe tbody tr th {\n",
       "        vertical-align: top;\n",
       "    }\n",
       "\n",
       "    .dataframe thead th {\n",
       "        text-align: right;\n",
       "    }\n",
       "</style>\n",
       "<table border=\"1\" class=\"dataframe\">\n",
       "  <thead>\n",
       "    <tr style=\"text-align: right;\">\n",
       "      <th></th>\n",
       "      <th>time</th>\n",
       "      <th>load</th>\n",
       "    </tr>\n",
       "  </thead>\n",
       "  <tbody>\n",
       "    <tr>\n",
       "      <th>0</th>\n",
       "      <td>0.55</td>\n",
       "      <td>2.4</td>\n",
       "    </tr>\n",
       "    <tr>\n",
       "      <th>1</th>\n",
       "      <td>1.05</td>\n",
       "      <td>17.0</td>\n",
       "    </tr>\n",
       "    <tr>\n",
       "      <th>2</th>\n",
       "      <td>1.20</td>\n",
       "      <td>14.0</td>\n",
       "    </tr>\n",
       "    <tr>\n",
       "      <th>3</th>\n",
       "      <td>1.45</td>\n",
       "      <td>4.0</td>\n",
       "    </tr>\n",
       "  </tbody>\n",
       "</table>\n",
       "</div>"
      ],
      "text/plain": [
       "   time  load\n",
       "0  0.55   2.4\n",
       "1  1.05  17.0\n",
       "2  1.20  14.0\n",
       "3  1.45   4.0"
      ]
     },
     "execution_count": 446,
     "metadata": {},
     "output_type": "execute_result"
    }
   ],
   "source": [
    "get_derivs(data) # we created the columns deriv and secderiv above while doing eda, but in order to automate, this function will do the same\n",
    "key_points(data, 0.05) # finds our points of interest"
   ]
  },
  {
   "cell_type": "code",
   "execution_count": null,
   "metadata": {},
   "outputs": [],
   "source": []
  }
 ],
 "metadata": {
  "kernelspec": {
   "display_name": "Python 3",
   "language": "python",
   "name": "python3"
  },
  "language_info": {
   "codemirror_mode": {
    "name": "ipython",
    "version": 3
   },
   "file_extension": ".py",
   "mimetype": "text/x-python",
   "name": "python",
   "nbconvert_exporter": "python",
   "pygments_lexer": "ipython3",
   "version": "3.7.7"
  }
 },
 "nbformat": 4,
 "nbformat_minor": 4
}
