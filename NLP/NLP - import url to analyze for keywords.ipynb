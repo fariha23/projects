{
 "cells": [
  {
   "cell_type": "markdown",
   "metadata": {},
   "source": [
    "# Import URL and convert to Text for Keyword Analysis"
   ]
  },
  {
   "cell_type": "markdown",
   "metadata": {},
   "source": [
    "## Table of Contents\n",
    "1. Load Packages and Data\n",
    "2. Read URL and Extract Text\n",
    "3. Summary"
   ]
  },
  {
   "cell_type": "markdown",
   "metadata": {},
   "source": [
    "## Load Packages and Data"
   ]
  },
  {
   "cell_type": "code",
   "execution_count": 1,
   "metadata": {},
   "outputs": [],
   "source": [
    "from urllib.request import urlopen\n",
    "from bs4 import BeautifulSoup"
   ]
  },
  {
   "cell_type": "code",
   "execution_count": 2,
   "metadata": {},
   "outputs": [
    {
     "name": "stdout",
     "output_type": "stream",
     "text": [
      "http://regenerativeagriculturepodcast.com/\n"
     ]
    }
   ],
   "source": [
    "url_link = input()"
   ]
  },
  {
   "cell_type": "markdown",
   "metadata": {},
   "source": [
    "## Read URL and Extract Text"
   ]
  },
  {
   "cell_type": "code",
   "execution_count": 4,
   "metadata": {},
   "outputs": [
    {
     "name": "stdout",
     "output_type": "stream",
     "text": [
      "Regenerative Agriculture Podcast\n",
      "Toggle navigation\n",
      "About\n",
      "Contact\n",
      "Episodes\n",
      "All Episodes\n",
      "Archives\n",
      "2020\n",
      "NovemberOctoberSeptemberAugustJulyJuneMayAprilMarchFebruaryJanuary2019\n",
      "DecemberNovemberOctoberSeptemberAugustJulyJuneMayAprilMarchFebruary2018\n",
      "DecemberNovemberOctoberAugustJulyJuneMayApril\n",
      "Preview Mode Links will not work in preview mode\n",
      "Regenerative Agriculture Podcast\n",
      "Get Email Updates | Privacy Policy\n",
      "Reversing Soil Degradation with Dwayne BeckNov 3, 2020Dr. Dwayne Beck is well known\n",
      "for being one of the pioneers of no-till agriculture in central\n",
      "South Dakota and across the High Plains. For more than three\n",
      "decades, Dr. Beck has been creating comprehensive systems for both\n",
      "irrigated and dryland crop production throughout the region,\n",
      "educating growers on the power of crop...\n",
      "Read MoreUpdating Soil Analysis to Consider Microbial Influence with Rick HaneyOct 6, 2020Rick Haney is a renowned\n",
      "researcher at the U.S. Department of Agriculture and the creator of\n",
      "the Haney Soil Analysis, an innovative extraction procedure to\n",
      "assess overall soil health and plant mineral availability. Today,\n",
      "John sits down with Rick to hear his story and discuss a future of\n",
      "agriculture centered around...\n",
      "Read MoreRebuilding Rural Economies with Ancient Grain and Regenerative Practices with Bob QuinnSep 15, 2020Bob Quinn is a 30-plus year\n",
      "veteran of Regenerative Organic practices and founder of Kamut\n",
      "International, an organization devoted to high quality Khorasan\n",
      "wheat and sustainable agricultural practices.\n",
      "After receiving his PhD in plant\n",
      "biochemistry from UC-Davis, Bob returned home to work on his\n",
      "family’s wheat and...\n",
      "Read MoreFacilitating Large Scale Transitions to Regenerative Agriculture with Terry McCoskerSep 2, 2020In our latest episode, John sits\n",
      "down with one of Australia’s most recognized thought leaders in\n",
      "Regenerative Agriculture, Dr. Terry McCosker. Over the course of\n",
      "three decades, Terry has worked with about 10,000 Australian\n",
      "farmers—a staggering 10% of all farmland on the continent—coaching\n",
      "them through an...\n",
      "Read MoreIn Defense of Biological Systems with Robert LindermanAug 11, 2020In our latest episode of the\n",
      "Regenerative Agriculture Podcast, John interviews plant pathology\n",
      "veteran & agricultural visionary, Dr. Robert Linderman,\n",
      "discussing the benefits of mycorrhizal fungi and other bio-control\n",
      "agents that protect crops from soil-borne\n",
      "pathogens.\n",
      "After receiving his Ph.D. in\n",
      "Plant Pathology from...\n",
      "Read More\n",
      "Sign up for new episodes below.\n",
      "Click the button above to let us know what you think about the podcast.\n",
      "×\n",
      "About the Podcast\n",
      "This is a show for professional growers and agronomists who want to learn about the science and principles of regenerative agriculture systems to increase quality, yield, and profitability.\n",
      "Close\n",
      "×\n",
      "Share This Episode\n",
      "Cancel\n",
      "Private Premium Login\n",
      "Login\n",
      "Email\n",
      "Password\n",
      "Having trouble logging in?\n",
      "Login\n",
      "×Close\n",
      "Close\n",
      "© Copyright John Kempf and Advancing Eco Agriculture 2018 - 2020\n"
     ]
    }
   ],
   "source": [
    "# read the link and parse with beautiful soup\n",
    "html = urlopen(url_link).read()\n",
    "soup = BeautifulSoup(html, features=\"html.parser\")\n",
    "\n",
    "# kill all script and style elements\n",
    "for script in soup([\"script\", \"style\"]):\n",
    "    script.extract()    # rip it out\n",
    "\n",
    "# get text\n",
    "text = soup.get_text()\n",
    "\n",
    "# break into lines and remove leading and trailing space on each\n",
    "lines = (line.strip() for line in text.splitlines())\n",
    "# break multi-headlines into a line each\n",
    "chunks = (phrase.strip() for line in lines for phrase in line.split(\"  \"))\n",
    "# drop blank lines\n",
    "text = '\\n'.join(chunk for chunk in chunks if chunk)\n",
    "\n",
    "print(text)"
   ]
  },
  {
   "cell_type": "markdown",
   "metadata": {},
   "source": [
    "## Summary"
   ]
  },
  {
   "cell_type": "markdown",
   "metadata": {},
   "source": [
    "The string `text` may now be called with the function created in `NLP - analyze pdf for keywords` to obtain keywords, key phrases, and a wordcloud.  "
   ]
  },
  {
   "cell_type": "markdown",
   "metadata": {},
   "source": [
    "### Future Work\n",
    "\n",
    "In addition to creating a functions for reading in a pdf or url and getting all the key info returned (for ease of calling), this would be great to host on a website.  \n",
    "\n",
    "Also, the following function (created for production of a chatbot) below could be of use for refining the information within the string through removal of stop words and punctuation/symbols as well as creating uniform case.  For use, the prior work would have to be modified to analyze a list.  Since this function seperates words, it would not be helpful in identifying key phrases.  Perhaps the function could be modified such that word tokenization is removed.  "
   ]
  },
  {
   "cell_type": "code",
   "execution_count": 13,
   "metadata": {},
   "outputs": [
    {
     "data": {
      "text/plain": [
       "['test',\n",
       " 'ing',\n",
       " 'function',\n",
       " 'working',\n",
       " 'expected',\n",
       " 'removing',\n",
       " 'stop',\n",
       " 'words',\n",
       " 'well',\n",
       " 'punctuation']"
      ]
     },
     "execution_count": 13,
     "metadata": {},
     "output_type": "execute_result"
    }
   ],
   "source": [
    "# requisite packages\n",
    "import string\n",
    "from nltk.tokenize import word_tokenize\n",
    "from nltk.corpus import stopwords\n",
    "import re\n",
    "from spellchecker import SpellChecker\n",
    "\n",
    "# create functions for cleaning the text\n",
    "\n",
    "# remove patterns from words so they can be recognized \n",
    "def reduce_length(text):\n",
    "    pattern = re.compile(r\"(.)\\1{2,}\")\n",
    "    return pattern.sub(r\"\\1\\1\", text)\n",
    "\n",
    "# define a specialized function for the CountVectorizer analyzer\n",
    "# split, remove punctuation and other sybols, lowercase\n",
    "# filter stop words\n",
    "def text_cleaner(text):\n",
    "    tokens = word_tokenize(text) # split\n",
    "    tokens = [word.lower() for word in tokens] # lowercase\n",
    "    # remove punctuation\n",
    "    table = str.maketrans('', '', string.punctuation)\n",
    "    stripped = [word.translate(table) for word in tokens]\n",
    "    # remove non alphanetic\n",
    "    words = [word for word in stripped if word.isalpha()]\n",
    "    # filter stop words\n",
    "    stop_words = stopwords.words('english')\n",
    "    words = [word for word in words if not word in stop_words]\n",
    "    # correct spelling\n",
    "    words_reduced = [reduce_length(word) for word in words]\n",
    "    spell = SpellChecker()\n",
    "    correct_words = [spell.correction(word) for word in words_reduced]\n",
    "    return correct_words\n",
    "\n",
    "# example of modified text_cleaner() at work\n",
    "text_cleaner('I am teeeeeest!ing that the! function< is working# as *** expected and> removing stop words, as wellllll as, ?!punctuation.') "
   ]
  },
  {
   "cell_type": "markdown",
   "metadata": {},
   "source": [
    "### Watermark"
   ]
  },
  {
   "cell_type": "code",
   "execution_count": 8,
   "metadata": {},
   "outputs": [
    {
     "name": "stdout",
     "output_type": "stream",
     "text": [
      "The watermark extension is already loaded. To reload it, use:\n",
      "  %reload_ext watermark\n",
      "H.GRYK 2020-12-04 14:48:06 \n",
      "\n",
      "CPython 3.7.7\n",
      "IPython 7.18.1\n",
      "\n",
      "sys 3.7.7 (default, May  6 2020, 11:45:54) [MSC v.1916 64 bit (AMD64)]\n",
      "urllib.request unknown\n",
      "bs4 4.8.0\n"
     ]
    }
   ],
   "source": [
    "# use watermark in a notebook with the following call\n",
    "%load_ext watermark\n",
    "\n",
    "# %watermark? #<-- watermark documentation\n",
    "\n",
    "%watermark -a \"H.GRYK\" -d -t -v -p sys\n",
    "%watermark -p urllib.request\n",
    "%watermark -p bs4\n",
    "\n"
   ]
  },
  {
   "cell_type": "code",
   "execution_count": null,
   "metadata": {},
   "outputs": [],
   "source": []
  }
 ],
 "metadata": {
  "kernelspec": {
   "display_name": "Python 3",
   "language": "python",
   "name": "python3"
  },
  "language_info": {
   "codemirror_mode": {
    "name": "ipython",
    "version": 3
   },
   "file_extension": ".py",
   "mimetype": "text/x-python",
   "name": "python",
   "nbconvert_exporter": "python",
   "pygments_lexer": "ipython3",
   "version": "3.7.7"
  }
 },
 "nbformat": 4,
 "nbformat_minor": 4
}
